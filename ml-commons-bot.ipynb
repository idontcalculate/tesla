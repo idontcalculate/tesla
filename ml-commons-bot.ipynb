{
 "cells": [
  {
   "cell_type": "code",
   "execution_count": 1,
   "metadata": {},
   "outputs": [],
   "source": [
    "import os \n",
    "os.environ[\"OPENAI_API_KEY\"] = \"your openai key\""
   ]
  },
  {
   "cell_type": "code",
   "execution_count": 2,
   "metadata": {},
   "outputs": [],
   "source": [
    "from embedchain import App\n",
    "\n",
    "\n",
    "bench_bot = App()"
   ]
  },
  {
   "cell_type": "code",
   "execution_count": 3,
   "metadata": {},
   "outputs": [
    {
     "name": "stderr",
     "output_type": "stream",
     "text": [
      "2023-09-09 01:26:45,979 [root] [WARNING] Starting from version v0.0.40, Embedchain can automatically detect the data type. So, in the `add` method, the argument order has changed. You no longer need to specify 'web_page' for the `source` argument. So the code snippet will be `.add(\"https://mlcommons.org/en/training-normal-30/\", \"web_page\")`\n",
      "2023-09-09 01:26:45,982 [root] [WARNING] Embedchain is swapping the arguments for you. This functionality might be deprecated in the future, so please adjust your code.\n",
      "2023-09-09 01:26:46,300 [root] [WARNING] Starting from version v0.0.40, Embedchain can automatically detect the data type. So, in the `add` method, the argument order has changed. You no longer need to specify 'web_page' for the `source` argument. So the code snippet will be `.add(\"https://mlcommons.org/en/training-hpc-20/\", \"web_page\")`\n",
      "2023-09-09 01:26:46,302 [root] [WARNING] Embedchain is swapping the arguments for you. This functionality might be deprecated in the future, so please adjust your code.\n",
      "2023-09-09 01:26:46,464 [root] [WARNING] Starting from version v0.0.40, Embedchain can automatically detect the data type. So, in the `add` method, the argument order has changed. You no longer need to specify 'web_page' for the `source` argument. So the code snippet will be `.add(\"https://mlcommons.org/en/inference-datacenter-30/\", \"web_page\")`\n",
      "2023-09-09 01:26:46,470 [root] [WARNING] Embedchain is swapping the arguments for you. This functionality might be deprecated in the future, so please adjust your code.\n"
     ]
    },
    {
     "name": "stdout",
     "output_type": "stream",
     "text": [
      "All data from https://mlcommons.org/en/training-normal-30/ already exists in the database.\n",
      "All data from https://mlcommons.org/en/training-hpc-20/ already exists in the database.\n"
     ]
    },
    {
     "name": "stderr",
     "output_type": "stream",
     "text": [
      "2023-09-09 01:26:46,649 [root] [WARNING] Starting from version v0.0.40, Embedchain can automatically detect the data type. So, in the `add` method, the argument order has changed. You no longer need to specify 'web_page' for the `source` argument. So the code snippet will be `.add(\"https://mlcommons.org/en/inference-tiny-11/\", \"web_page\")`\n",
      "2023-09-09 01:26:46,654 [root] [WARNING] Embedchain is swapping the arguments for you. This functionality might be deprecated in the future, so please adjust your code.\n",
      "2023-09-09 01:26:46,843 [root] [WARNING] Starting from version v0.0.40, Embedchain can automatically detect the data type. So, in the `add` method, the argument order has changed. You no longer need to specify 'web_page' for the `source` argument. So the code snippet will be `.add(\"https://mlcommons.org/en/groups/datasets/\", \"web_page\")`\n",
      "2023-09-09 01:26:46,847 [root] [WARNING] Embedchain is swapping the arguments for you. This functionality might be deprecated in the future, so please adjust your code.\n"
     ]
    },
    {
     "name": "stdout",
     "output_type": "stream",
     "text": [
      "All data from https://mlcommons.org/en/inference-datacenter-30/ already exists in the database.\n",
      "All data from https://mlcommons.org/en/inference-tiny-11/ already exists in the database.\n",
      "All data from https://mlcommons.org/en/groups/datasets/ already exists in the database.\n"
     ]
    },
    {
     "data": {
      "text/plain": [
       "'80cd3a55397a9406be28c5d752c0f41b'"
      ]
     },
     "execution_count": 3,
     "metadata": {},
     "output_type": "execute_result"
    }
   ],
   "source": [
    "bench_bot.add('web_page', 'https://mlcommons.org/en/training-normal-30/')\n",
    "bench_bot.add('web_page', 'https://mlcommons.org/en/training-hpc-20/')\n",
    "bench_bot.add('web_page', 'https://mlcommons.org/en/inference-datacenter-30/')\n",
    "bench_bot.add('web_page', 'https://mlcommons.org/en/inference-tiny-11/')\n",
    "bench_bot.add('web_page', 'https://mlcommons.org/en/groups/datasets/')"
   ]
  },
  {
   "cell_type": "code",
   "execution_count": 4,
   "metadata": {},
   "outputs": [
    {
     "name": "stdout",
     "output_type": "stream",
     "text": [
      "All data from https://mlcommons.org/en/groups/research-storage/ already exists in the database.\n"
     ]
    },
    {
     "data": {
      "text/plain": [
       "'ee73b94593931463a8307144e8dff6f3'"
      ]
     },
     "execution_count": 4,
     "metadata": {},
     "output_type": "execute_result"
    }
   ],
   "source": [
    "#sitemap\n",
    "bench_bot.add('https://mlcommons.org/en/groups/research-storage/', data_type='web_page')"
   ]
  },
  {
   "cell_type": "code",
   "execution_count": 5,
   "metadata": {},
   "outputs": [
    {
     "name": "stderr",
     "output_type": "stream",
     "text": [
      "2023-09-09 01:27:24,363 [root] [WARNING] Starting from version v0.0.40, Embedchain can automatically detect the data type. So, in the `add` method, the argument order has changed. You no longer need to specify 'youtube_video' for the `source` argument. So the code snippet will be `.add(\"https://www.youtube.com/watch?v=uMNtTBRCHXA\", \"youtube_video\")`\n",
      "2023-09-09 01:27:24,366 [root] [WARNING] Embedchain is swapping the arguments for you. This functionality might be deprecated in the future, so please adjust your code.\n",
      "2023-09-09 01:27:25,721 [root] [WARNING] Starting from version v0.0.40, Embedchain can automatically detect the data type. So, in the `add` method, the argument order has changed. You no longer need to specify 'youtube_video' for the `source` argument. So the code snippet will be `.add(\"https://www.youtube.com/watch?v=eyK-9UehYPo\", \"youtube_video\")`\n",
      "2023-09-09 01:27:25,727 [root] [WARNING] Embedchain is swapping the arguments for you. This functionality might be deprecated in the future, so please adjust your code.\n"
     ]
    },
    {
     "name": "stdout",
     "output_type": "stream",
     "text": [
      "All data from https://www.youtube.com/watch?v=uMNtTBRCHXA already exists in the database.\n"
     ]
    },
    {
     "name": "stderr",
     "output_type": "stream",
     "text": [
      "2023-09-09 01:27:26,904 [root] [WARNING] Starting from version v0.0.40, Embedchain can automatically detect the data type. So, in the `add` method, the argument order has changed. You no longer need to specify 'youtube_video' for the `source` argument. So the code snippet will be `.add(\"https://www.youtube.com/watch?v=woGaG3ZcTbU\", \"youtube_video\")`\n",
      "2023-09-09 01:27:26,909 [root] [WARNING] Embedchain is swapping the arguments for you. This functionality might be deprecated in the future, so please adjust your code.\n"
     ]
    },
    {
     "name": "stdout",
     "output_type": "stream",
     "text": [
      "All data from https://www.youtube.com/watch?v=eyK-9UehYPo already exists in the database.\n"
     ]
    },
    {
     "name": "stderr",
     "output_type": "stream",
     "text": [
      "2023-09-09 01:27:27,951 [root] [WARNING] Starting from version v0.0.40, Embedchain can automatically detect the data type. So, in the `add` method, the argument order has changed. You no longer need to specify 'youtube_video' for the `source` argument. So the code snippet will be `.add(\"https://www.youtube.com/watch?v=woGaG3ZcTbU\", \"youtube_video\")`\n",
      "2023-09-09 01:27:27,952 [root] [WARNING] Embedchain is swapping the arguments for you. This functionality might be deprecated in the future, so please adjust your code.\n"
     ]
    },
    {
     "name": "stdout",
     "output_type": "stream",
     "text": [
      "All data from https://www.youtube.com/watch?v=woGaG3ZcTbU already exists in the database.\n"
     ]
    },
    {
     "name": "stderr",
     "output_type": "stream",
     "text": [
      "2023-09-09 01:27:29,805 [root] [WARNING] Starting from version v0.0.40, Embedchain can automatically detect the data type. So, in the `add` method, the argument order has changed. You no longer need to specify 'youtube_video' for the `source` argument. So the code snippet will be `.add(\"https://www.youtube.com/watch?v=txtvMhzEDu8\", \"youtube_video\")`\n",
      "2023-09-09 01:27:29,807 [root] [WARNING] Embedchain is swapping the arguments for you. This functionality might be deprecated in the future, so please adjust your code.\n"
     ]
    },
    {
     "name": "stdout",
     "output_type": "stream",
     "text": [
      "All data from https://www.youtube.com/watch?v=woGaG3ZcTbU already exists in the database.\n",
      "All data from https://www.youtube.com/watch?v=txtvMhzEDu8 already exists in the database.\n"
     ]
    },
    {
     "data": {
      "text/plain": [
       "'4f4f22d8b4710a4e03795f9d62258c39'"
      ]
     },
     "execution_count": 5,
     "metadata": {},
     "output_type": "execute_result"
    }
   ],
   "source": [
    "# takes the transcript and load it with yt_loader ;)\n",
    "bench_bot.add('youtube_video', 'https://www.youtube.com/watch?v=uMNtTBRCHXA') #ml commons link\n",
    "bench_bot.add('youtube_video', 'https://www.youtube.com/watch?v=eyK-9UehYPo')\n",
    "bench_bot.add('youtube_video', 'https://www.youtube.com/watch?v=woGaG3ZcTbU')\n",
    "bench_bot.add('youtube_video', 'https://www.youtube.com/watch?v=woGaG3ZcTbU')\n",
    "bench_bot.add('youtube_video', 'https://www.youtube.com/watch?v=txtvMhzEDu8')"
   ]
  },
  {
   "cell_type": "code",
   "execution_count": 10,
   "metadata": {},
   "outputs": [
    {
     "name": "stdout",
     "output_type": "stream",
     "text": [
      "Successfully saved https://mlcommons.org/ (DataType.WEB_PAGE). New chunks count: 5\n"
     ]
    },
    {
     "data": {
      "text/plain": [
       "'93ff95d59bf8c18392f864ac4e3a1ae0'"
      ]
     },
     "execution_count": 10,
     "metadata": {},
     "output_type": "execute_result"
    }
   ],
   "source": [
    "bench_bot.add('https://mlcommons.org/', data_type='web_page')"
   ]
  },
  {
   "cell_type": "code",
   "execution_count": 6,
   "metadata": {},
   "outputs": [
    {
     "name": "stdout",
     "output_type": "stream",
     "text": [
      "All data from https://arxiv.org/pdf/2207.10062.pdf already exists in the database.\n"
     ]
    },
    {
     "data": {
      "text/plain": [
       "'ec3a4d879cb49189de8025d09532f2a6'"
      ]
     },
     "execution_count": 6,
     "metadata": {},
     "output_type": "execute_result"
    }
   ],
   "source": [
    "#pdf data arxiv on bench\n",
    "bench_bot.add('https://arxiv.org/pdf/2207.10062.pdf', data_type='pdf_file')"
   ]
  },
  {
   "cell_type": "code",
   "execution_count": 12,
   "metadata": {},
   "outputs": [
    {
     "name": "stdout",
     "output_type": "stream",
     "text": [
      "All data from https://mlcommons.org/en/training-normal-30/ already exists in the database.\n"
     ]
    },
    {
     "data": {
      "text/plain": [
       "'b3b94f5c82c1cd31a9072ad758ad9db3'"
      ]
     },
     "execution_count": 12,
     "metadata": {},
     "output_type": "execute_result"
    }
   ],
   "source": [
    "\n",
    "bench_bot.add('https://mlcommons.org/en/training-normal-30/', data_type='web_page')"
   ]
  },
  {
   "cell_type": "code",
   "execution_count": 17,
   "metadata": {},
   "outputs": [
    {
     "name": "stdout",
     "output_type": "stream",
     "text": [
      "Successfully saved https://signalism.notion.site/MLCommons-An-In-Depth-Whitepaper-on-Benchmarking-Machine-Learning-Performance-d21aabe85304439fb5ae4ca7ac3826f7?pvs=4 (DataType.WEB_PAGE). New chunks count: 1\n"
     ]
    },
    {
     "data": {
      "text/plain": [
       "'fefe74d23f13ec168f56423c885b410e'"
      ]
     },
     "execution_count": 17,
     "metadata": {},
     "output_type": "execute_result"
    }
   ],
   "source": [
    "#notion page data\n",
    "bench_bot.add('https://signalism.notion.site/MLCommons-An-In-Depth-Whitepaper-on-Benchmarking-Machine-Learning-Performance-d21aabe85304439fb5ae4ca7ac3826f7?pvs=4')"
   ]
  },
  {
   "cell_type": "code",
   "execution_count": 21,
   "metadata": {},
   "outputs": [
    {
     "name": "stdout",
     "output_type": "stream",
     "text": [
      "All data from https://docs.google.com/spreadsheets/d/1bF4buOnEPQcwoqlaSeX4HxKx8jVRR0xHcOT_CaAL5Mk/pubhtml?gid=0&single=false&widget=false&headers=false&chrome=true already exists in the database.\n"
     ]
    },
    {
     "data": {
      "text/plain": [
       "'5e8b049a20686c0af906a36fa659b578'"
      ]
     },
     "execution_count": 21,
     "metadata": {},
     "output_type": "execute_result"
    }
   ],
   "source": [
    "#docs\n",
    "\n",
    "bench_bot.add('https://docs.google.com/spreadsheets/d/1bF4buOnEPQcwoqlaSeX4HxKx8jVRR0xHcOT_CaAL5Mk/pubhtml?gid=0&single=false&widget=false&headers=false&chrome=true', data_type=\"docs_site\")\n"
   ]
  },
  {
   "cell_type": "code",
   "execution_count": 25,
   "metadata": {},
   "outputs": [
    {
     "name": "stdout",
     "output_type": "stream",
     "text": [
      "Successfully saved https://github.com/mlcommons/training (DataType.WEB_PAGE). New chunks count: 15\n"
     ]
    },
    {
     "data": {
      "text/plain": [
       "'b54bd12bf32bc372b96ae7ab253f4504'"
      ]
     },
     "execution_count": 25,
     "metadata": {},
     "output_type": "execute_result"
    }
   ],
   "source": [
    "#github as page\n",
    "bench_bot.add('https://github.com/mlcommons/training', data_type='web_page')"
   ]
  },
  {
   "cell_type": "code",
   "execution_count": 29,
   "metadata": {},
   "outputs": [
    {
     "name": "stdout",
     "output_type": "stream",
     "text": [
      "To submit benchmarks on the DataPerf platform, participants can use the online platform called Dynabench. They can submit their solutions for evaluation by following the guidelines provided on the platform. The Dynabench platform hosts the DataPerf benchmarks, evaluation tools, leaderboards, and documentation. Participants can submit, evaluate, and compare their solutions for all data-centric benchmarks defined in the DataPerf suite. The platform also supports a wide variety of submission artifacts, such as training subsets, priority values/orderings, and purchase strategies. If you need more specific instructions on how to submit benchmarks, it is recommended to refer to the documentation or guidelines provided on the Dynabench platform.\n"
     ]
    }
   ],
   "source": [
    "answer = bench_bot.query('how to submit benchmarks?')\n",
    "print(answer)"
   ]
  }
 ],
 "metadata": {
  "kernelspec": {
   "display_name": "Python 3",
   "language": "python",
   "name": "python3"
  },
  "language_info": {
   "codemirror_mode": {
    "name": "ipython",
    "version": 3
   },
   "file_extension": ".py",
   "mimetype": "text/x-python",
   "name": "python",
   "nbconvert_exporter": "python",
   "pygments_lexer": "ipython3",
   "version": "3.9.2 (default, Feb 28 2021, 17:03:44) \n[GCC 10.2.1 20210110]"
  },
  "orig_nbformat": 4,
  "vscode": {
   "interpreter": {
    "hash": "916dbcbb3f70747c44a77c7bcd40155683ae19c65e1c03b4aa3499c5328201f1"
   }
  }
 },
 "nbformat": 4,
 "nbformat_minor": 2
}
