{
 "cells": [
  {
   "cell_type": "code",
   "execution_count": 1,
   "metadata": {},
   "outputs": [
    {
     "name": "stdout",
     "output_type": "stream",
     "text": [
      "Defaulting to user installation because normal site-packages is not writeable\n",
      "Collecting openai-whisper\n",
      "  Downloading openai-whisper-20230918.tar.gz (794 kB)\n",
      "\u001b[2K     \u001b[90m━━━━━━━━━━━━━━━━━━━━━━━━━━━━━━━━━━━━━━\u001b[0m \u001b[32m794.3/794.3 kB\u001b[0m \u001b[31m13.7 MB/s\u001b[0m eta \u001b[36m0:00:00\u001b[0ma \u001b[36m0:00:01\u001b[0m\n",
      "\u001b[?25h  Installing build dependencies ... \u001b[?25ldone\n",
      "\u001b[?25h  Getting requirements to build wheel ... \u001b[?25ldone\n",
      "\u001b[?25h  Preparing metadata (pyproject.toml) ... \u001b[?25ldone\n",
      "\u001b[?25hRequirement already satisfied: triton==2.0.0 in /home/cloudsuperadmin/.local/lib/python3.9/site-packages (from openai-whisper) (2.0.0)\n",
      "Collecting numba (from openai-whisper)\n",
      "  Obtaining dependency information for numba from https://files.pythonhosted.org/packages/a1/d2/e3d9752c53244a5cc7abb0c156e0a13bae3dfd99946f9793872963d946af/numba-0.58.0-cp39-cp39-manylinux2014_x86_64.manylinux_2_17_x86_64.whl.metadata\n",
      "  Downloading numba-0.58.0-cp39-cp39-manylinux2014_x86_64.manylinux_2_17_x86_64.whl.metadata (2.7 kB)\n",
      "Requirement already satisfied: numpy in /home/cloudsuperadmin/.local/lib/python3.9/site-packages (from openai-whisper) (1.24.3)\n",
      "Requirement already satisfied: torch in /home/cloudsuperadmin/.local/lib/python3.9/site-packages (from openai-whisper) (2.0.1)\n",
      "Requirement already satisfied: tqdm in /home/cloudsuperadmin/.local/lib/python3.9/site-packages (from openai-whisper) (4.65.0)\n",
      "Collecting more-itertools (from openai-whisper)\n",
      "  Obtaining dependency information for more-itertools from https://files.pythonhosted.org/packages/5a/cb/6dce742ea14e47d6f565589e859ad225f2a5de576d7696e0623b784e226b/more_itertools-10.1.0-py3-none-any.whl.metadata\n",
      "  Downloading more_itertools-10.1.0-py3-none-any.whl.metadata (33 kB)\n",
      "Collecting tiktoken==0.3.3 (from openai-whisper)\n",
      "  Downloading tiktoken-0.3.3-cp39-cp39-manylinux_2_17_x86_64.manylinux2014_x86_64.whl (1.7 MB)\n",
      "\u001b[2K     \u001b[90m━━━━━━━━━━━━━━━━━━━━━━━━━━━━━━━━━━━━━━━━\u001b[0m \u001b[32m1.7/1.7 MB\u001b[0m \u001b[31m60.3 MB/s\u001b[0m eta \u001b[36m0:00:00\u001b[0m\n",
      "\u001b[?25hRequirement already satisfied: regex>=2022.1.18 in /home/cloudsuperadmin/.local/lib/python3.9/site-packages (from tiktoken==0.3.3->openai-whisper) (2023.6.3)\n",
      "Requirement already satisfied: requests>=2.26.0 in /usr/local/lib/python3.9/dist-packages (from tiktoken==0.3.3->openai-whisper) (2.31.0)\n",
      "Requirement already satisfied: cmake in /home/cloudsuperadmin/.local/lib/python3.9/site-packages (from triton==2.0.0->openai-whisper) (3.27.0)\n",
      "Requirement already satisfied: filelock in /home/cloudsuperadmin/.local/lib/python3.9/site-packages (from triton==2.0.0->openai-whisper) (3.12.2)\n",
      "Requirement already satisfied: lit in /home/cloudsuperadmin/.local/lib/python3.9/site-packages (from triton==2.0.0->openai-whisper) (16.0.6)\n",
      "Collecting llvmlite<0.42,>=0.41.0dev0 (from numba->openai-whisper)\n",
      "  Obtaining dependency information for llvmlite<0.42,>=0.41.0dev0 from https://files.pythonhosted.org/packages/0f/7a/f2b4d0ed163197dbc9be054492218b96acef6fffb82bb164e815ef7d781e/llvmlite-0.41.0-cp39-cp39-manylinux_2_17_x86_64.manylinux2014_x86_64.whl.metadata\n",
      "  Downloading llvmlite-0.41.0-cp39-cp39-manylinux_2_17_x86_64.manylinux2014_x86_64.whl.metadata (4.8 kB)\n",
      "Requirement already satisfied: typing-extensions in /home/cloudsuperadmin/.local/lib/python3.9/site-packages (from torch->openai-whisper) (4.5.0)\n",
      "Requirement already satisfied: sympy in /home/cloudsuperadmin/.local/lib/python3.9/site-packages (from torch->openai-whisper) (1.12)\n",
      "Requirement already satisfied: networkx in /home/cloudsuperadmin/.local/lib/python3.9/site-packages (from torch->openai-whisper) (3.1)\n",
      "Requirement already satisfied: jinja2 in /usr/local/lib/python3.9/dist-packages (from torch->openai-whisper) (3.1.2)\n",
      "Requirement already satisfied: nvidia-cuda-nvrtc-cu11==11.7.99 in /home/cloudsuperadmin/.local/lib/python3.9/site-packages (from torch->openai-whisper) (11.7.99)\n",
      "Requirement already satisfied: nvidia-cuda-runtime-cu11==11.7.99 in /home/cloudsuperadmin/.local/lib/python3.9/site-packages (from torch->openai-whisper) (11.7.99)\n",
      "Requirement already satisfied: nvidia-cuda-cupti-cu11==11.7.101 in /home/cloudsuperadmin/.local/lib/python3.9/site-packages (from torch->openai-whisper) (11.7.101)\n",
      "Requirement already satisfied: nvidia-cudnn-cu11==8.5.0.96 in /home/cloudsuperadmin/.local/lib/python3.9/site-packages (from torch->openai-whisper) (8.5.0.96)\n",
      "Requirement already satisfied: nvidia-cublas-cu11==11.10.3.66 in /home/cloudsuperadmin/.local/lib/python3.9/site-packages (from torch->openai-whisper) (11.10.3.66)\n",
      "Requirement already satisfied: nvidia-cufft-cu11==10.9.0.58 in /home/cloudsuperadmin/.local/lib/python3.9/site-packages (from torch->openai-whisper) (10.9.0.58)\n",
      "Requirement already satisfied: nvidia-curand-cu11==10.2.10.91 in /home/cloudsuperadmin/.local/lib/python3.9/site-packages (from torch->openai-whisper) (10.2.10.91)\n",
      "Requirement already satisfied: nvidia-cusolver-cu11==11.4.0.1 in /home/cloudsuperadmin/.local/lib/python3.9/site-packages (from torch->openai-whisper) (11.4.0.1)\n",
      "Requirement already satisfied: nvidia-cusparse-cu11==11.7.4.91 in /home/cloudsuperadmin/.local/lib/python3.9/site-packages (from torch->openai-whisper) (11.7.4.91)\n",
      "Requirement already satisfied: nvidia-nccl-cu11==2.14.3 in /home/cloudsuperadmin/.local/lib/python3.9/site-packages (from torch->openai-whisper) (2.14.3)\n",
      "Requirement already satisfied: nvidia-nvtx-cu11==11.7.91 in /home/cloudsuperadmin/.local/lib/python3.9/site-packages (from torch->openai-whisper) (11.7.91)\n",
      "Requirement already satisfied: setuptools in /home/cloudsuperadmin/.local/lib/python3.9/site-packages (from nvidia-cublas-cu11==11.10.3.66->torch->openai-whisper) (68.2.0)\n",
      "Requirement already satisfied: wheel in /home/cloudsuperadmin/.local/lib/python3.9/site-packages (from nvidia-cublas-cu11==11.10.3.66->torch->openai-whisper) (0.41.2)\n",
      "Requirement already satisfied: charset-normalizer<4,>=2 in /usr/local/lib/python3.9/dist-packages (from requests>=2.26.0->tiktoken==0.3.3->openai-whisper) (3.2.0)\n",
      "Requirement already satisfied: idna<4,>=2.5 in /usr/lib/python3/dist-packages (from requests>=2.26.0->tiktoken==0.3.3->openai-whisper) (2.10)\n",
      "Requirement already satisfied: urllib3<3,>=1.21.1 in /usr/lib/python3/dist-packages (from requests>=2.26.0->tiktoken==0.3.3->openai-whisper) (1.26.5)\n",
      "Requirement already satisfied: certifi>=2017.4.17 in /usr/lib/python3/dist-packages (from requests>=2.26.0->tiktoken==0.3.3->openai-whisper) (2020.6.20)\n",
      "Requirement already satisfied: MarkupSafe>=2.0 in /usr/local/lib/python3.9/dist-packages (from jinja2->torch->openai-whisper) (2.1.3)\n",
      "Requirement already satisfied: mpmath>=0.19 in /home/cloudsuperadmin/.local/lib/python3.9/site-packages (from sympy->torch->openai-whisper) (1.3.0)\n",
      "Downloading more_itertools-10.1.0-py3-none-any.whl (55 kB)\n",
      "\u001b[2K   \u001b[90m━━━━━━━━━━━━━━━━━━━━━━━━━━━━━━━━━━━━━━━━\u001b[0m \u001b[32m55.8/55.8 kB\u001b[0m \u001b[31m6.0 MB/s\u001b[0m eta \u001b[36m0:00:00\u001b[0m\n",
      "\u001b[?25hDownloading numba-0.58.0-cp39-cp39-manylinux2014_x86_64.manylinux_2_17_x86_64.whl (3.6 MB)\n",
      "\u001b[2K   \u001b[90m━━━━━━━━━━━━━━━━━━━━━━━━━━━━━━━━━━━━━━━━\u001b[0m \u001b[32m3.6/3.6 MB\u001b[0m \u001b[31m72.5 MB/s\u001b[0m eta \u001b[36m0:00:00\u001b[0m:00:01\u001b[0m\n",
      "\u001b[?25hDownloading llvmlite-0.41.0-cp39-cp39-manylinux_2_17_x86_64.manylinux2014_x86_64.whl (43.6 MB)\n",
      "\u001b[2K   \u001b[90m━━━━━━━━━━━━━━━━━━━━━━━━━━━━━━━━━━━━━━━━\u001b[0m \u001b[32m43.6/43.6 MB\u001b[0m \u001b[31m18.9 MB/s\u001b[0m eta \u001b[36m0:00:00\u001b[0m00:01\u001b[0m00:01\u001b[0mm\n",
      "\u001b[?25hBuilding wheels for collected packages: openai-whisper\n",
      "  Building wheel for openai-whisper (pyproject.toml) ... \u001b[?25ldone\n",
      "\u001b[?25h  Created wheel for openai-whisper: filename=openai_whisper-20230918-py3-none-any.whl size=798399 sha256=fd6a418427f54e2b2e3290d5c5218414eda5bcccbe7c1748c58fb045139934a1\n",
      "  Stored in directory: /home/cloudsuperadmin/.cache/pip/wheels/16/7b/37/c3e6902d9f3fcdf83577d081269c5d129862bbaf937941f24b\n",
      "Successfully built openai-whisper\n",
      "Installing collected packages: more-itertools, llvmlite, tiktoken, numba, openai-whisper\n",
      "  Attempting uninstall: tiktoken\n",
      "    Found existing installation: tiktoken 0.4.0\n",
      "    Uninstalling tiktoken-0.4.0:\n",
      "      Successfully uninstalled tiktoken-0.4.0\n",
      "\u001b[31mERROR: pip's dependency resolver does not currently take into account all the packages that are installed. This behaviour is the source of the following dependency conflicts.\n",
      "embedchain 0.0.54 requires tiktoken<0.5.0,>=0.4.0, but you have tiktoken 0.3.3 which is incompatible.\u001b[0m\u001b[31m\n",
      "\u001b[0mSuccessfully installed llvmlite-0.41.0 more-itertools-10.1.0 numba-0.58.0 openai-whisper-20230918 tiktoken-0.3.3\n"
     ]
    }
   ],
   "source": [
    "!pip install -U openai-whisper"
   ]
  },
  {
   "cell_type": "code",
   "execution_count": 2,
   "metadata": {},
   "outputs": [],
   "source": [
    "import whisper"
   ]
  },
  {
   "cell_type": "code",
   "execution_count": null,
   "metadata": {},
   "outputs": [],
   "source": [
    "model = whisper.load_model(\"medium\")\n",
    "result = model.transcribe(\"audio.mp3\")\n",
    "print(result[\"text\"])"
   ]
  }
 ],
 "metadata": {
  "kernelspec": {
   "display_name": "Python 3",
   "language": "python",
   "name": "python3"
  },
  "language_info": {
   "codemirror_mode": {
    "name": "ipython",
    "version": 3
   },
   "file_extension": ".py",
   "mimetype": "text/x-python",
   "name": "python",
   "nbconvert_exporter": "python",
   "pygments_lexer": "ipython3",
   "version": "3.9.2"
  },
  "orig_nbformat": 4,
  "vscode": {
   "interpreter": {
    "hash": "916dbcbb3f70747c44a77c7bcd40155683ae19c65e1c03b4aa3499c5328201f1"
   }
  }
 },
 "nbformat": 4,
 "nbformat_minor": 2
}
